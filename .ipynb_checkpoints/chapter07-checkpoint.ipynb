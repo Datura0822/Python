{
 "cells": [
  {
   "cell_type": "code",
   "execution_count": null,
   "metadata": {},
   "outputs": [],
   "source": [
    "#第七章 用户输入和while循环"
   ]
  },
  {
   "cell_type": "code",
   "execution_count": 3,
   "metadata": {},
   "outputs": [
    {
     "name": "stdout",
     "output_type": "stream",
     "text": [
      "Please enter your age: 18\n",
      "19\n"
     ]
    }
   ],
   "source": [
    "#7.1 input()\n",
    "age = input(\"Please enter your age: \")\n",
    "age = int(age) + 1 #input()输入为字符串\n",
    "print(age)"
   ]
  },
  {
   "cell_type": "code",
   "execution_count": null,
   "metadata": {},
   "outputs": [],
   "source": [
    "#7.2 while()\n",
    "\n",
    "#条件退出\n",
    "\n",
    "#标志退出\n",
    "\n",
    "#break退出"
   ]
  },
  {
   "cell_type": "code",
   "execution_count": 5,
   "metadata": {},
   "outputs": [
    {
     "name": "stdout",
     "output_type": "stream",
     "text": [
      "ge\n",
      "guo\n",
      "['guo']\n"
     ]
    }
   ],
   "source": [
    "#7.3 使用while处理列表和循环\n",
    "\n",
    "#7.3.1 遍历列表\n",
    "names = [\"guo\", \"ge\"]\n",
    "while names:\n",
    "    print(names.pop())\n",
    "\n",
    "#7.3.2 删除指定元素\n",
    "names = [\"guo\", \"ge\"]\n",
    "while \"ge\" in names:\n",
    "    names.remove(\"ge\")\n",
    "print(names)\n",
    "\n",
    "#7.3.3 使用用户输入来填充字典"
   ]
  },
  {
   "cell_type": "code",
   "execution_count": null,
   "metadata": {},
   "outputs": [],
   "source": []
  }
 ],
 "metadata": {
  "kernelspec": {
   "display_name": "Python 3",
   "language": "python",
   "name": "python3"
  },
  "language_info": {
   "codemirror_mode": {
    "name": "ipython",
    "version": 3
   },
   "file_extension": ".py",
   "mimetype": "text/x-python",
   "name": "python",
   "nbconvert_exporter": "python",
   "pygments_lexer": "ipython3",
   "version": "3.7.3"
  }
 },
 "nbformat": 4,
 "nbformat_minor": 2
}
