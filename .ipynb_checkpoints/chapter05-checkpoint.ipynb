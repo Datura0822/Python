{
 "cells": [
  {
   "cell_type": "code",
   "execution_count": 4,
   "metadata": {},
   "outputs": [],
   "source": [
    "#第五章 if语句"
   ]
  },
  {
   "cell_type": "code",
   "execution_count": 5,
   "metadata": {},
   "outputs": [],
   "source": [
    "#5.2 条件测试\n",
    "\n",
    "#and，or，is，not，in"
   ]
  },
  {
   "cell_type": "code",
   "execution_count": 6,
   "metadata": {},
   "outputs": [],
   "source": [
    "#5.3 if语句\n",
    "\n",
    "#if-else\n",
    "\n",
    "#if-elif-else"
   ]
  },
  {
   "cell_type": "code",
   "execution_count": 9,
   "metadata": {},
   "outputs": [
    {
     "name": "stdout",
     "output_type": "stream",
     "text": [
      "N\n",
      "Y\n"
     ]
    }
   ],
   "source": [
    "#5.4 使用if处理列表\n",
    "\n",
    "#检查特定值是否包含在列表中\n",
    "users = [\"guo\", \"ge\"]\n",
    "user = \"zhang\"\n",
    "if user in users:\n",
    "    print(\"Y\")\n",
    "else:\n",
    "    print(\"N\")\n",
    "    \n",
    "#检查列表是否为不空\n",
    "if users:\n",
    "    print(\"Y\")\n",
    "else:\n",
    "    print(\"N\")"
   ]
  }
 ],
 "metadata": {
  "kernelspec": {
   "display_name": "Python 3",
   "language": "python",
   "name": "python3"
  },
  "language_info": {
   "codemirror_mode": {
    "name": "ipython",
    "version": 3
   },
   "file_extension": ".py",
   "mimetype": "text/x-python",
   "name": "python",
   "nbconvert_exporter": "python",
   "pygments_lexer": "ipython3",
   "version": "3.7.3"
  }
 },
 "nbformat": 4,
 "nbformat_minor": 2
}
