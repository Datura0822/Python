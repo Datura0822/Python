{
 "cells": [
  {
   "cell_type": "code",
   "execution_count": null,
   "metadata": {},
   "outputs": [],
   "source": [
    "#第九章 类"
   ]
  },
  {
   "cell_type": "code",
   "execution_count": 7,
   "metadata": {},
   "outputs": [
    {
     "name": "stdout",
     "output_type": "stream",
     "text": [
      "My dog's name is Willie.\n",
      "Willie is now sitting.\n"
     ]
    }
   ],
   "source": [
    "#9.1 创建和使用类\n",
    "class Dog(): #通常，类的名称首字母大写\n",
    "    \"\"\"一次模拟小狗的简单尝试\"\"\"\n",
    "    \n",
    "    def __init__(self, name, age): #self时指向实例本身的引用\n",
    "        \"\"\"初始化属性name和age\"\"\"\n",
    "        self.name = name #以self为前缀的变量都可供类中所有方法使用，可以通过类的任何实例来访问这些变量\n",
    "        self.age = age #可以通过实例访问的变量称为属性\n",
    "        self.weight = 0 #\n",
    "    \n",
    "    def sit(self): #创建的实例能够访问这些方法\n",
    "        \"\"\"模拟小狗被命令时蹲下\"\"\"\n",
    "        print(self.name.title() + \" is now sitting.\")\n",
    "    \n",
    "    def roll_over(self):\n",
    "        \"\"\"模拟小狗被命令时打滚\"\"\"\n",
    "        print(self.name.title() + \" rolled out.\")\n",
    "    \n",
    "    def get_weight(self):\n",
    "        print(self.name.title() + \" is \" + str(self.weight) + \" kilogram now.\")\n",
    "        \n",
    "    def update_weight(self, weight): \n",
    "        self.weight = weight\n",
    "        \n",
    "#9.1.2 根据类创建实例\n",
    "my_dog = Dog(\"willie\", 2) #创建实例\n",
    "print(\"My dog's name is \" + my_dog.name.title() + \".\") #访问属性\n",
    "my_dog.sit() #调用方法"
   ]
  },
  {
   "cell_type": "code",
   "execution_count": 19,
   "metadata": {},
   "outputs": [
    {
     "name": "stdout",
     "output_type": "stream",
     "text": [
      "Willie is 10 kilogram now.\n",
      "Willie is 5 kilogram now.\n",
      "Willie is 10 kilogram now.\n"
     ]
    }
   ],
   "source": [
    "#9.2 使用类和实例\n",
    "\n",
    "#9.2.1 给属性指定默认值\n",
    "my_dog.get_weight()\n",
    "\n",
    "#9.2.2 修改属性的值\n",
    "\n",
    "#1.直接修改属性的值\n",
    "my_dog.weight = 5\n",
    "my_dog.get_weight()\n",
    "\n",
    "#2.通过方法修改属性的值\n",
    "my_dog.update_weight(10) #可在方法中添加逻辑，使其更符合实际或需求\n",
    "my_dog.get_weight()\n",
    "\n",
    "#3.通过方法对属性的值进行递增"
   ]
  },
  {
   "cell_type": "code",
   "execution_count": 27,
   "metadata": {},
   "outputs": [
    {
     "name": "stdout",
     "output_type": "stream",
     "text": [
      "0\n",
      "Alice is now sitting.\n",
      "['basket']\n",
      "Alice is 10 kilogram now.\n",
      "tomato\n"
     ]
    }
   ],
   "source": [
    "#9.3 继承\n",
    "class food():\n",
    "    def __init__(self, food):\n",
    "        self.food = food\n",
    "    \n",
    "    def get_food(self):\n",
    "        print(self.food)\n",
    "\n",
    "class TeddyDog(Dog): #定义子类时，括号内指定父类的名称\n",
    "    \"\"\"Represent aspects of a dog\"\"\"\n",
    "    \n",
    "    def __init__(self, name, age):\n",
    "        \"\"\"初始化父类的属性\"\"\"\n",
    "        super().__init__(name, age) #子类和父类关联起来，TeddyDog实例包含父类的所有属性\n",
    "        \"\"\"初始化特有属性\"\"\"\n",
    "        self.type = \"Teddy\"\n",
    "        self.habit = []\n",
    "        self.favirate_food = food(\"tomato\")\n",
    "    \n",
    "    def add_habit(self, habit):\n",
    "        \"\"\"给子类定义特有方法\"\"\"\n",
    "        self.habit.append(habit)\n",
    "    \n",
    "    def update_weight(self, weight): #重写父类方法\n",
    "        self.weight = weight\n",
    "        print(self.name.title() + \" is \" + str(self.weight) + \" kilogram now.\")\n",
    "        \n",
    "your_dog = TeddyDog(\"alice\", 3)\n",
    "#9.3.1 子类方法__init__()\n",
    "print(your_dog.weight)\n",
    "your_dog.sit() #子类继承了其父类的所有属性和方法\n",
    "\n",
    "#9.3.3 给子类定义属性和方法\n",
    "your_dog.add_habit(\"basket\") #如果一个属性或方法不是子类特有的，而是父类共有的，应加入父类\n",
    "print(your_dog.habit)\n",
    "\n",
    "#9.3.4 重写父类的方法\n",
    "your_dog.update_weight(10) #重写父类方法时，只要方法名称与父类相同即可\n",
    "\n",
    "#9.3.5 将实例用作属性\n",
    "your_dog.favirate_food.get_food()"
   ]
  },
  {
   "cell_type": "code",
   "execution_count": null,
   "metadata": {},
   "outputs": [],
   "source": [
    "#9.4 导入类"
   ]
  }
 ],
 "metadata": {
  "kernelspec": {
   "display_name": "Python 3",
   "language": "python",
   "name": "python3"
  },
  "language_info": {
   "codemirror_mode": {
    "name": "ipython",
    "version": 3
   },
   "file_extension": ".py",
   "mimetype": "text/x-python",
   "name": "python",
   "nbconvert_exporter": "python",
   "pygments_lexer": "ipython3",
   "version": "3.7.3"
  }
 },
 "nbformat": 4,
 "nbformat_minor": 2
}
