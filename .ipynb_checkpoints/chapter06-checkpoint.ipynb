{
 "cells": [
  {
   "cell_type": "code",
   "execution_count": null,
   "metadata": {},
   "outputs": [],
   "source": [
    "#第六章 字典"
   ]
  },
  {
   "cell_type": "code",
   "execution_count": 10,
   "metadata": {},
   "outputs": [
    {
     "name": "stdout",
     "output_type": "stream",
     "text": [
      "guo ge\n",
      "20\n",
      "{'name': 'guo ge', 'age': 20, 'sex': 'female'}\n",
      "{'name': 'guo ge', 'age': 21, 'sex': 'female'}\n",
      "{'name': 'guo ge', 'age': 21}\n",
      "20\n"
     ]
    }
   ],
   "source": [
    "#6.2 使用字典\n",
    "\n",
    "#6.2.1 访问\n",
    "person = {'name': 'guo ge','age': 20} #6.2.3 创建\n",
    "print(person['name'])\n",
    "print(person['age'])\n",
    "\n",
    "#6.2.2 添加键-值对\n",
    "person['sex'] = 'female'\n",
    "print(person)\n",
    "\n",
    "#6.2.4 修改\n",
    "person['age'] = 21\n",
    "print(person)\n",
    "\n",
    "#6.2.5 删除键-值对\n",
    "del person['sex']\n",
    "print(person)\n",
    "\n",
    "#6.2.6 由类似对象组成的字典\n",
    "ages = {\n",
    "    'guo': 20,\n",
    "    'zhang': 25,\n",
    "    'zou': 20,\n",
    "}\n",
    "print(ages['guo'])"
   ]
  },
  {
   "cell_type": "code",
   "execution_count": 23,
   "metadata": {},
   "outputs": [
    {
     "name": "stdout",
     "output_type": "stream",
     "text": [
      "Guo is 20 years old.\n",
      "Zhang is 24 years old.\n",
      "Zou is 20 years old.\n",
      "Guo is 20 years old.\n",
      "Zhang is 24 years old.\n",
      "Zou is 20 years old.\n",
      "Y\n",
      "24\n",
      "20\n"
     ]
    }
   ],
   "source": [
    "#6.3 遍历字典\n",
    "\n",
    "#6.3.1 遍历键-值对\n",
    "for name, age in ages.items():\n",
    "    print(name.title() + \" is \" + str(age) + \" years old.\")\n",
    "\n",
    "#6.3.2 遍历所有键\n",
    "for name in ages.keys():\n",
    "    print(name.title() + \" is \" + str(ages[name]) + \" years old.\")\n",
    "    \n",
    "#6.3.3 遍历所有值\n",
    "if 20 in ages.values():\n",
    "    print(\"Y\")\n",
    "\n",
    "for age in set(ages.values()):\n",
    "    print(age)"
   ]
  },
  {
   "cell_type": "code",
   "execution_count": null,
   "metadata": {},
   "outputs": [],
   "source": [
    "#6.4 嵌套\n",
    "\n",
    "#6.4.1 在列表中存储字典\n",
    "\n",
    "#6.4.2 在字典中存储列表\n",
    "\n",
    "#6.4.3 在字典中存储字典"
   ]
  }
 ],
 "metadata": {
  "kernelspec": {
   "display_name": "Python 3",
   "language": "python",
   "name": "python3"
  },
  "language_info": {
   "codemirror_mode": {
    "name": "ipython",
    "version": 3
   },
   "file_extension": ".py",
   "mimetype": "text/x-python",
   "name": "python",
   "nbconvert_exporter": "python",
   "pygments_lexer": "ipython3",
   "version": "3.7.3"
  }
 },
 "nbformat": 4,
 "nbformat_minor": 2
}
