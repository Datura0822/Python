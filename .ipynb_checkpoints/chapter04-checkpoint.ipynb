{
 "cells": [
  {
   "cell_type": "code",
   "execution_count": null,
   "metadata": {},
   "outputs": [],
   "source": [
    "#第四章 操作列表"
   ]
  },
  {
   "cell_type": "code",
   "execution_count": null,
   "metadata": {},
   "outputs": [],
   "source": [
    "#4.1 遍历列表（循环）"
   ]
  },
  {
   "cell_type": "code",
   "execution_count": 3,
   "metadata": {},
   "outputs": [
    {
     "name": "stdout",
     "output_type": "stream",
     "text": [
      "[2, 4, 6, 8, 10]\n",
      "30\n",
      "10\n",
      "2\n",
      "[1, 4, 9, 16, 25, 36, 49, 64, 81, 100]\n"
     ]
    }
   ],
   "source": [
    "#4.3 数值列表\n",
    "\n",
    "#4.3.2 使用range()创建数值列表\n",
    "even_numbers = list(range(2, 11, 2))\n",
    "print(even_numbers)\n",
    "\n",
    "#4.3.3 对数字列表执行统计计算\n",
    "print(sum(even_numbers))\n",
    "print(max(even_numbers))\n",
    "print(min(even_numbers))\n",
    "\n",
    "#4.3.4 列表解析\n",
    "squares = [i**2 for i in range(1,11)]\n",
    "print(squares)"
   ]
  },
  {
   "cell_type": "code",
   "execution_count": 24,
   "metadata": {},
   "outputs": [
    {
     "name": "stdout",
     "output_type": "stream",
     "text": [
      "[1, 4, 9]\n",
      "[16, 25, 36]\n",
      "[121, 121, 121]\n",
      "[1, 4, 9, 16, 25, 36, 49, 64, 81, 100, 121, 121, 121, 121, 121]\n",
      "[1, 4, 9, 16, 25, 36, 49, 64, 81, 100, 121, 121, 121, 121, 121]\n",
      "[1, 4, 9, 16, 25, 36, 49, 64, 81, 100, 121, 121, 121, 121, 121]\n",
      "[1, 4, 9, 16, 25, 36, 49, 64, 81, 100, 121, 121, 121, 121, 121, 144]\n",
      "140731302056832\n",
      "140731302056832\n",
      "140731302056864\n"
     ]
    }
   ],
   "source": [
    "#4.4 使用列表的一部分\n",
    "\n",
    "#4.1.1 切片\n",
    "print(squares[:3])\n",
    "print(squares[3:6])\n",
    "print(squares[-3:])\n",
    "\n",
    "#4.1.2 遍历切片\n",
    "\n",
    "#4.1.3 复制切片\n",
    "my_squares = squares #相当于引用，共用地址\n",
    "my_squares.append(121)\n",
    "print(squares)\n",
    "print(my_squares)\n",
    "\n",
    "my_squares = squares[:] #将squares的值存储到my_squares所在地址的空间\n",
    "my_squares.append(144)\n",
    "print(squares)\n",
    "print(my_squares)\n",
    "\n",
    "#【注】\n",
    "a = 3\n",
    "b = 3\n",
    "print(id(a))\n",
    "print(id(b))"
   ]
  },
  {
   "cell_type": "code",
   "execution_count": 29,
   "metadata": {},
   "outputs": [
    {
     "name": "stdout",
     "output_type": "stream",
     "text": [
      "200\n",
      "50\n",
      "100\n",
      "(500, 200)\n"
     ]
    }
   ],
   "source": [
    "#4.5 元组\n",
    "\n",
    "dimensions = (200, 50, 100)\n",
    "for dimension in dimensions:\n",
    "    print(dimension)\n",
    "    \n",
    "#dimensions[0] = 1  'tuple' object does not support item assignment\n",
    "\n",
    "dimensions = (500, 200)\n",
    "print(dimensions)"
   ]
  }
 ],
 "metadata": {
  "kernelspec": {
   "display_name": "Python 3",
   "language": "python",
   "name": "python3"
  },
  "language_info": {
   "codemirror_mode": {
    "name": "ipython",
    "version": 3
   },
   "file_extension": ".py",
   "mimetype": "text/x-python",
   "name": "python",
   "nbconvert_exporter": "python",
   "pygments_lexer": "ipython3",
   "version": "3.7.3"
  }
 },
 "nbformat": 4,
 "nbformat_minor": 2
}
