{
 "cells": [
  {
   "cell_type": "code",
   "execution_count": 1,
   "metadata": {},
   "outputs": [],
   "source": [
    "#第八章 函数"
   ]
  },
  {
   "cell_type": "code",
   "execution_count": 15,
   "metadata": {},
   "outputs": [],
   "source": [
    "#8.1 定义函数\n",
    "\n",
    "def person(name, age=18):\n",
    "    print(name.title() + \" is \" + str(age) + \" years old.\")\n",
    "\n",
    "#8.3 形参和实参\n",
    "#形参：函数完成其工作所需的一项信息\n",
    "#实参：调用函数时传递给函数的信息"
   ]
  },
  {
   "cell_type": "code",
   "execution_count": 18,
   "metadata": {},
   "outputs": [
    {
     "name": "stdout",
     "output_type": "stream",
     "text": [
      "Guo Ge is 20 years old.\n",
      "Guo Ge is 20 years old.\n",
      "Guo Ge is 20 years old.\n",
      "Guo Ge is 18 years old.\n",
      "Guo Ge is a girl and she is 20 years old\n"
     ]
    }
   ],
   "source": [
    "#8.2 传递实参\n",
    "\n",
    "#8.2.1 位置实参\n",
    "person(\"guo ge\", 20) #按顺序将函数调用中的实参关联到函数定义中相应的形参\n",
    "\n",
    "#8.2.2 关键字实参\n",
    "person(age=20, name=\"guo ge\") #传递给函数名称-值对，不要求按顺序\n",
    "\n",
    "#8.2.3 默认值\n",
    "#对于指定了默认值的函数，调用时如果给形参提供了实参，则使用指定实参；否则，使用默认值\n",
    "person(\"guo ge\", 20) \n",
    "person(\"guo ge\")\n",
    "\n",
    "#8.3.2 让实参变成可选的\n",
    "def people(name, sex='', age=20):\n",
    "    if sex == 'female':\n",
    "        print(name.title() + \" is a girl and she is \" + str(age) + \" years old\")\n",
    "    elif sex == 'male':\n",
    "        print(name.title() + \" is a girl and he is \" + str(age) + \" years old.\")\n",
    "    else:\n",
    "        print(name.title() + \" is \" + str(age) + \" years old.\")\n",
    "people(\"guo ge\", \"female\")\n",
    "    \n",
    "\n",
    "#【注】\n",
    "#指定了默认值的函数，依然是位置实参，故定义函数时，应将指定默认值的形参置于最后\n",
    "# def people(name=\"guo ge\", age):\n",
    "#     print(name.title() + \" is \" + str(age) + \" years old.\")\n",
    "# people(\"guo ge\",18)\n",
    "#non-default argument follows default argument\n"
   ]
  },
  {
   "cell_type": "code",
   "execution_count": null,
   "metadata": {},
   "outputs": [],
   "source": [
    "#8.3 返回值\n",
    "\n",
    "#8.3.3 返回字典、列表（对象皆可）"
   ]
  },
  {
   "cell_type": "code",
   "execution_count": 8,
   "metadata": {},
   "outputs": [
    {
     "name": "stdout",
     "output_type": "stream",
     "text": [
      "[18, 19, 20, 21]\n",
      "[18, 19, 20, 21]\n",
      "[18, 19, 20, 21]\n",
      "[18, 19, 20]\n"
     ]
    }
   ],
   "source": [
    "#8.4 传递列表\n",
    "\n",
    "#8.4.1 在函数中修改列表，函数对列表的修改是永久性的，可以省去return，节约创建副本的时间和空间消费\n",
    "ages = [18, 19, 20]\n",
    "def add_age(age):\n",
    "    age.append(21)\n",
    "    print(age)\n",
    "add_age(ages)\n",
    "print(ages)\n",
    "\n",
    "#8.4.2 禁止函数修改列表\n",
    "ages = [18, 19, 20]\n",
    "def add_age(age):\n",
    "    age.append(21)\n",
    "    print(age)\n",
    "add_age(ages[:]) #创建列表副本\n",
    "print(ages)"
   ]
  },
  {
   "cell_type": "code",
   "execution_count": 16,
   "metadata": {},
   "outputs": [
    {
     "name": "stdout",
     "output_type": "stream",
     "text": [
      "('football', 'basket')\n",
      "Guo Ge ('basket', 'music')\n",
      "Guo Ge {'age': 20, 'habit': 'basket'}\n",
      "Guo Ge {'age': 20, 'habit': 'basket'}\n"
     ]
    }
   ],
   "source": [
    "#8.5 传递任意数量的实参\n",
    "def person(*habits): #创建一个名为names的空元组，并将收到的所有值都封装到这个元组中\n",
    "    print(habits)\n",
    "person(\"football\",\"basket\")\n",
    "\n",
    "#8.5.1 结合使用位置实参和任意数量实参\n",
    "def person(name, *habits): #要让函数接受不同类型的实参，必须在函数定义中将接纳任意数量的实参的形参放在最后\n",
    "    print(name.title(), habits)\n",
    "person(\"guo ge\", \"basket\", \"music\")\n",
    "\n",
    "#8.5.2 使用任意数量的关键字实参\n",
    "def person(name, **others): #创建一个名为others的空字典，并将收到的所有键-值对都封装到这个字典中\n",
    "    print(name.title(), others)\n",
    "person(\"guo ge\", age=20, habit=\"basket\")\n",
    "person(age=20, habit=\"basket\", name=\"guo ge\" )"
   ]
  },
  {
   "cell_type": "code",
   "execution_count": null,
   "metadata": {},
   "outputs": [],
   "source": [
    "#8.6 将函数存储在模块中\n",
    "\n",
    "#import module 导入整个模块，当前程序可使用module中定义的所有函数，module.function()调用函数\n",
    "\n",
    "#from module import function 导入特定函数，function()调用函数\n",
    "\n",
    "#import module as m 使用as给模块指定别名\n",
    "\n",
    "#from module import function as f 使用as给函数指定别名\n",
    "\n",
    "#from module import * 导入模块中的所有函数"
   ]
  }
 ],
 "metadata": {
  "kernelspec": {
   "display_name": "Python 3",
   "language": "python",
   "name": "python3"
  },
  "language_info": {
   "codemirror_mode": {
    "name": "ipython",
    "version": 3
   },
   "file_extension": ".py",
   "mimetype": "text/x-python",
   "name": "python",
   "nbconvert_exporter": "python",
   "pygments_lexer": "ipython3",
   "version": "3.7.3"
  }
 },
 "nbformat": 4,
 "nbformat_minor": 2
}
