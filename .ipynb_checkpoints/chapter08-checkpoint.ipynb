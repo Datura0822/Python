{
 "cells": [
  {
   "cell_type": "code",
   "execution_count": 1,
   "metadata": {},
   "outputs": [],
   "source": [
    "#第八章 函数"
   ]
  },
  {
   "cell_type": "code",
   "execution_count": 15,
   "metadata": {},
   "outputs": [],
   "source": [
    "#8.1 定义函数\n",
    "\n",
    "def person(name, age=18):\n",
    "    print(name.title() + \" is \" + str(age) + \" years old.\")\n",
    "\n",
    "#8.3 形参和实参\n",
    "#形参：函数完成其工作所需的一项信息\n",
    "#实参：调用函数时传递给函数的信息"
   ]
  },
  {
   "cell_type": "code",
   "execution_count": 18,
   "metadata": {},
   "outputs": [
    {
     "name": "stdout",
     "output_type": "stream",
     "text": [
      "Guo Ge is 20 years old.\n",
      "Guo Ge is 20 years old.\n",
      "Guo Ge is 20 years old.\n",
      "Guo Ge is 18 years old.\n",
      "Guo Ge is a girl and she is 20 years old\n"
     ]
    }
   ],
   "source": [
    "#8.2 传递实参\n",
    "\n",
    "#8.2.1 位置实参\n",
    "person(\"guo ge\", 20) #按顺序将函数调用中的实参关联到函数定义中相应的形参\n",
    "\n",
    "#8.2.2 关键字实参\n",
    "person(age=20, name=\"guo ge\") #传递给函数名称-值对，不要求按顺序\n",
    "\n",
    "#8.2.3 默认值\n",
    "#对于指定了默认值的函数，调用时如果给形参提供了实参，则使用指定实参；否则，使用默认值\n",
    "person(\"guo ge\", 20) \n",
    "person(\"guo ge\")\n",
    "\n",
    "#8.3.2 让实参变成可选的\n",
    "def people(name, sex='', age=20):\n",
    "    if sex == 'female':\n",
    "        print(name.title() + \" is a girl and she is \" + str(age) + \" years old\")\n",
    "    elif sex == 'male':\n",
    "        print(name.title() + \" is a girl and he is \" + str(age) + \" years old.\")\n",
    "    else:\n",
    "        print(name.title() + \" is \" + str(age) + \" years old.\")\n",
    "people(\"guo ge\", \"female\")\n",
    "    \n",
    "\n",
    "#【注】\n",
    "#指定了默认值的函数，依然是位置实参，故定义函数时，应将指定默认值的形参置于最后\n",
    "# def people(name=\"guo ge\", age):\n",
    "#     print(name.title() + \" is \" + str(age) + \" years old.\")\n",
    "# people(\"guo ge\",18)\n",
    "#non-default argument follows default argument\n"
   ]
  },
  {
   "cell_type": "code",
   "execution_count": null,
   "metadata": {},
   "outputs": [],
   "source": [
    "#8.3 返回值\n",
    "\n",
    "#8.3.3 返回字典、列表（对象皆可）"
   ]
  },
  {
   "cell_type": "code",
   "execution_count": 26,
   "metadata": {},
   "outputs": [
    {
     "name": "stdout",
     "output_type": "stream",
     "text": [
      "[100, 19, 20]\n",
      "[100, 19, 20]\n"
     ]
    }
   ],
   "source": [
    "#8.4 传递列表\n",
    "ages = [18, 19, 20]\n",
    "def add_age(age):\n",
    "    for value in age:\n",
    "        value = value + 1\n",
    "    age[0]=100\n",
    "    print(age)\n",
    "add_age(ages)\n",
    "print(ages)"
   ]
  },
  {
   "cell_type": "code",
   "execution_count": null,
   "metadata": {},
   "outputs": [],
   "source": []
  }
 ],
 "metadata": {
  "kernelspec": {
   "display_name": "Python 3",
   "language": "python",
   "name": "python3"
  },
  "language_info": {
   "codemirror_mode": {
    "name": "ipython",
    "version": 3
   },
   "file_extension": ".py",
   "mimetype": "text/x-python",
   "name": "python",
   "nbconvert_exporter": "python",
   "pygments_lexer": "ipython3",
   "version": "3.7.3"
  }
 },
 "nbformat": 4,
 "nbformat_minor": 2
}
