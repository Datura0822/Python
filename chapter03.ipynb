{
 "cells": [
  {
   "cell_type": "code",
   "execution_count": 22,
   "metadata": {},
   "outputs": [],
   "source": [
    "#第三章 列表简介"
   ]
  },
  {
   "cell_type": "code",
   "execution_count": 23,
   "metadata": {},
   "outputs": [
    {
     "name": "stdout",
     "output_type": "stream",
     "text": [
      "['guo', 'ge']\n",
      "ge\n"
     ]
    }
   ],
   "source": [
    "#3.1 访问列表\n",
    "names = [\"guo\",\"ge\"]\n",
    "print(names)\n",
    "print(names[-1])"
   ]
  },
  {
   "cell_type": "code",
   "execution_count": 24,
   "metadata": {},
   "outputs": [
    {
     "name": "stdout",
     "output_type": "stream",
     "text": [
      "['hui', 'zheng', 'ge', 'zhang']\n",
      "['hui', 'ge', 'zhang']\n",
      "zhang\n",
      "['hui', 'ge']\n",
      "hui\n",
      "['ge']\n",
      "[]\n"
     ]
    }
   ],
   "source": [
    "#3.2 修改、添加和删除列表元素\n",
    "\n",
    "#3.2.1 修改\n",
    "names[0] = \"hui\"\n",
    "\n",
    "#3.2.2 添加\n",
    "names.append(\"zhang\")\n",
    "names.insert(1, \"zheng\")\n",
    "print(names)\n",
    "\n",
    "#3.2.3 删除\n",
    "del names[1]\n",
    "print(names)\n",
    "\n",
    "name = names.pop()\n",
    "print(name)\n",
    "print(names)\n",
    "\n",
    "name = names.pop(0)\n",
    "print(name)\n",
    "print(names)\n",
    "\n",
    "names.remove(\"ge\")\n",
    "print(names)"
   ]
  },
  {
   "cell_type": "code",
   "execution_count": 31,
   "metadata": {},
   "outputs": [
    {
     "name": "stdout",
     "output_type": "stream",
     "text": [
      "['A', 'C', 'D', 'E', 'H', 'K', 'M']\n",
      "['M', 'K', 'H', 'E', 'D', 'C', 'A']\n",
      "['M', 'K', 'H', 'E', 'D', 'C', 'A']\n",
      "['D', 'E', 'H', 'A', 'C', 'K', 'M']\n",
      "['M', 'K', 'C', 'A', 'H', 'E', 'D']\n",
      "7\n"
     ]
    }
   ],
   "source": [
    "#3.3 组织列表\n",
    "\n",
    "#3.3.1 永久排序\n",
    "names = [\"D\",\"E\",\"H\",\"A\",\"C\",\"K\",\"M\"]\n",
    "names.sort()\n",
    "print(names)\n",
    "\n",
    "names.sort(reverse = True)\n",
    "print(names)\n",
    "\n",
    "#3.3.2 临时排序\n",
    "names = [\"D\",\"E\",\"H\",\"A\",\"C\",\"K\",\"M\"]\n",
    "print(sorted(names, reverse = True))\n",
    "print(names)\n",
    "\n",
    "#3.3.3 倒置列表\n",
    "names = [\"D\",\"E\",\"H\",\"A\",\"C\",\"K\",\"M\"]\n",
    "names.reverse()\n",
    "print(names)\n",
    "\n",
    "#3.3.4 列表长度\n",
    "names = [\"D\",\"E\",\"H\",\"A\",\"C\",\"K\",\"M\"]\n",
    "print(len(names))"
   ]
  },
  {
   "cell_type": "code",
   "execution_count": null,
   "metadata": {},
   "outputs": [],
   "source": [
    "#【注】func(obj)为临时操作，obj.func()为永久操作，"
   ]
  }
 ],
 "metadata": {
  "kernelspec": {
   "display_name": "Python 3",
   "language": "python",
   "name": "python3"
  },
  "language_info": {
   "codemirror_mode": {
    "name": "ipython",
    "version": 3
   },
   "file_extension": ".py",
   "mimetype": "text/x-python",
   "name": "python",
   "nbconvert_exporter": "python",
   "pygments_lexer": "ipython3",
   "version": "3.7.3"
  }
 },
 "nbformat": 4,
 "nbformat_minor": 2
}
