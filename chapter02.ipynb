{
 "cells": [
  {
   "cell_type": "code",
   "execution_count": null,
   "metadata": {},
   "outputs": [],
   "source": [
    "#第二章 变量和简单数据类型"
   ]
  },
  {
   "cell_type": "code",
   "execution_count": null,
   "metadata": {},
   "outputs": [],
   "source": [
    "#2.2 变量和命名"
   ]
  },
  {
   "cell_type": "code",
   "execution_count": 12,
   "metadata": {},
   "outputs": [
    {
     "name": "stdout",
     "output_type": "stream",
     "text": [
      "Guo Ge\n",
      "GUO GE\n",
      "guo ge\n",
      "hello, Guo Ge!\n",
      "name:\n",
      "\tguo ge\n",
      " guo ge\n",
      "guo ge \n",
      "guo ge\n"
     ]
    }
   ],
   "source": [
    "#2.3 字符串\n",
    "\n",
    "#2.3.1 大小写\n",
    "name = \"guo ge\"\n",
    "print(name.title())\n",
    "print(name.upper())\n",
    "print(name.lower())\n",
    "\n",
    "#2.3.2 拼接\n",
    "message = \"hello, \" + name.title() + \"!\"\n",
    "print(message)\n",
    "\n",
    "#2.3.3 制表符和换行符\n",
    "print(\"name:\\n\\t\" + name)\n",
    "\n",
    "#2.3.4 删除空白\n",
    "name = \" guo ge \"\n",
    "print(name.rstrip())\n",
    "print(name.lstrip())\n",
    "print(name.strip())\n"
   ]
  },
  {
   "cell_type": "code",
   "execution_count": 18,
   "metadata": {},
   "outputs": [
    {
     "name": "stdout",
     "output_type": "stream",
     "text": [
      "1000\n",
      "0.30000000000000004\n",
      "I'am 20 years old.\n"
     ]
    }
   ],
   "source": [
    "#2.4 数字\n",
    "\n",
    "#2.4.1 整数\n",
    "print(10 ** 3)\n",
    "\n",
    "#2.4.2 浮点数\n",
    "print(0.2 + 0.1)\n",
    "\n",
    "#2.4.3 类型转换\n",
    "age = \"18\"\n",
    "age = int(age) + 2\n",
    "print(\"I'am \" + str(age) + \" years old.\")\n"
   ]
  },
  {
   "cell_type": "code",
   "execution_count": 19,
   "metadata": {},
   "outputs": [
    {
     "name": "stdout",
     "output_type": "stream",
     "text": [
      "The Zen of Python, by Tim Peters\n",
      "\n",
      "Beautiful is better than ugly.\n",
      "Explicit is better than implicit.\n",
      "Simple is better than complex.\n",
      "Complex is better than complicated.\n",
      "Flat is better than nested.\n",
      "Sparse is better than dense.\n",
      "Readability counts.\n",
      "Special cases aren't special enough to break the rules.\n",
      "Although practicality beats purity.\n",
      "Errors should never pass silently.\n",
      "Unless explicitly silenced.\n",
      "In the face of ambiguity, refuse the temptation to guess.\n",
      "There should be one-- and preferably only one --obvious way to do it.\n",
      "Although that way may not be obvious at first unless you're Dutch.\n",
      "Now is better than never.\n",
      "Although never is often better than *right* now.\n",
      "If the implementation is hard to explain, it's a bad idea.\n",
      "If the implementation is easy to explain, it may be a good idea.\n",
      "Namespaces are one honking great idea -- let's do more of those!\n"
     ]
    }
   ],
   "source": [
    "import this"
   ]
  }
 ],
 "metadata": {
  "kernelspec": {
   "display_name": "Python 3",
   "language": "python",
   "name": "python3"
  },
  "language_info": {
   "codemirror_mode": {
    "name": "ipython",
    "version": 3
   },
   "file_extension": ".py",
   "mimetype": "text/x-python",
   "name": "python",
   "nbconvert_exporter": "python",
   "pygments_lexer": "ipython3",
   "version": "3.7.3"
  }
 },
 "nbformat": 4,
 "nbformat_minor": 2
}
