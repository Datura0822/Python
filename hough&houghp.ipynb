{
 "cells": [
  {
   "cell_type": "code",
   "execution_count": 6,
   "metadata": {},
   "outputs": [
    {
     "data": {
      "text/plain": [
       "-1"
      ]
     },
     "execution_count": 6,
     "metadata": {},
     "output_type": "execute_result"
    }
   ],
   "source": [
    "import cv2\n",
    "import numpy as np\n",
    "\n",
    "#读入图像\n",
    "src = cv2.imread('d:/bs/4.jpg')\n",
    "\n",
    "#中值滤波\n",
    "median = cv2.medianBlur(src, 5)\n",
    "#灰度化\n",
    "gray = cv2.cvtColor(median, cv2.COLOR_BGR2GRAY)\n",
    "\n",
    "#边缘检测\n",
    "edges = cv2.Canny(gray, 50, 150)\n",
    "\n",
    "dst1 = cv2.cvtColor(edges, cv2.COLOR_GRAY2BGR)\n",
    "dst2 = cv2.cvtColor(edges, cv2.COLOR_GRAY2BGR)\n",
    "\n",
    "#设置阈值\n",
    "minLineLength = 100\n",
    "maxLineGap = 10\n",
    "\n",
    "#Hough直线检测\n",
    "lines1 = cv2.HoughLines(edges, 1, np.pi/180.0, 200, minLineLength, maxLineGap)\n",
    "if lines1 is not None:\n",
    "    _lines1 = lines1[:, 0, :]  # 提取为二维\n",
    "    for rho,theta in _lines1[:]:\n",
    "        print(15.0-theta*57.3/9.0)\n",
    "        print(rho)\n",
    "        a = np.cos(theta)\n",
    "        b = np.sin(theta)\n",
    "        x0, y0 = a * rho, b * rho\n",
    "        pt1 = ( int(x0 + 100 * (-b)), int(y0 + 100 * (a)) )\n",
    "        pt2 = ( int(x0 - 100 * (-b)), int(y0 - 100 * (a)) )\n",
    "        cv2.line(dst1, pt1, pt2, (0, 255, 0), 2)\n",
    "    cv2.imshow(\"hough lines\", dst1)\n",
    "\n",
    "\n",
    "minLineLength = 100\n",
    "maxLineGap = 20\n",
    "\n",
    "#HoughLineP直线检测\n",
    "lines2 = cv2.HoughLinesP(edges, 1, np.pi/180.0, 50, minLineLength, maxLineGap)\n",
    "if lines2 is not None:\n",
    "    _lines2 = lines2[:,0,:] \n",
    "    for x1,y1,x2,y2 in _lines2[:]:\n",
    "        cv2.line(dst2,(x1, y1), (x2, y2), (0,255,0), 2)\n",
    "\n",
    "cv2.imshow(\"hough lines P\", dst2)\n",
    "\n",
    "cv2.waitKey(0)\n"
   ]
  },
  {
   "cell_type": "code",
   "execution_count": null,
   "metadata": {},
   "outputs": [],
   "source": []
  },
  {
   "cell_type": "code",
   "execution_count": null,
   "metadata": {},
   "outputs": [],
   "source": []
  },
  {
   "cell_type": "code",
   "execution_count": null,
   "metadata": {},
   "outputs": [],
   "source": []
  }
 ],
 "metadata": {
  "kernelspec": {
   "display_name": "Python 3",
   "language": "python",
   "name": "python3"
  },
  "language_info": {
   "codemirror_mode": {
    "name": "ipython",
    "version": 3
   },
   "file_extension": ".py",
   "mimetype": "text/x-python",
   "name": "python",
   "nbconvert_exporter": "python",
   "pygments_lexer": "ipython3",
   "version": "3.7.3"
  }
 },
 "nbformat": 4,
 "nbformat_minor": 2
}
