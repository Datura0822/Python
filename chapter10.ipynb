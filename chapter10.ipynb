{
 "cells": [
  {
   "cell_type": "code",
   "execution_count": null,
   "metadata": {},
   "outputs": [],
   "source": [
    "#第十章 文件和异常"
   ]
  },
  {
   "cell_type": "code",
   "execution_count": 24,
   "metadata": {},
   "outputs": [
    {
     "name": "stdout",
     "output_type": "stream",
     "text": [
      "Guo Ge\n",
      "Zhang Zhenghui\n",
      "Guo Ge\n",
      "Zhang Zhenghui\n",
      "['Guo Ge\\n', 'Zhang Zhenghui']\n"
     ]
    }
   ],
   "source": [
    "#10.1 从文件中读取数据\n",
    "\n",
    "#10.1.1 读取整个文件\n",
    "with open(\"in.txt\") as file:\n",
    "    contents = file.read()\n",
    "    print(contents)\n",
    "\n",
    "#10.1.2 文件路径\n",
    "#相对路径和绝对路径（\\）\n",
    "\n",
    "#10.1.3 逐行读取\n",
    "with open(\"in.txt\") as file:\n",
    "    for line in file:\n",
    "        print(line.rstrip())\n",
    "        \n",
    "#10.1.4 创建一个包含文件各行的列表\n",
    "with open(\"in.txt\") as file:\n",
    "    lines = file.readlines()\n",
    "print(lines)"
   ]
  },
  {
   "cell_type": "code",
   "execution_count": 25,
   "metadata": {},
   "outputs": [],
   "source": [
    "#10.2 写入文件\n",
    "\n",
    "#10.2.1 写入空文件\n",
    "with open(\"out.txt\", 'w') as file: # 'w'写入模式，若文件不存在，则自动创建；若文件存在，返回对象前将清空文件。\n",
    "    file.write(\"I am Guo Ge.\")\n",
    "# 10.2.2 写入多行\n",
    "\n",
    "#10.2.3 附加到文件\n",
    "# 'a'附加模式，若文件不存在，则自动创建；若文件存在，添加到文件末尾。\n",
    "\n",
    "# 'r+'读取和写入\n",
    "\n",
    "#默认只读模式"
   ]
  },
  {
   "cell_type": "code",
   "execution_count": null,
   "metadata": {},
   "outputs": [],
   "source": []
  }
 ],
 "metadata": {
  "kernelspec": {
   "display_name": "Python 3",
   "language": "python",
   "name": "python3"
  },
  "language_info": {
   "codemirror_mode": {
    "name": "ipython",
    "version": 3
   },
   "file_extension": ".py",
   "mimetype": "text/x-python",
   "name": "python",
   "nbconvert_exporter": "python",
   "pygments_lexer": "ipython3",
   "version": "3.7.3"
  }
 },
 "nbformat": 4,
 "nbformat_minor": 2
}
